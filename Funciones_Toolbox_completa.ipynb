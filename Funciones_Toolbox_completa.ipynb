{
 "cells": [
  {
   "cell_type": "code",
   "execution_count": 111,
   "metadata": {},
   "outputs": [],
   "source": [
    "import matplotlib.pyplot as plt\n",
    "import numpy as np\n",
    "import pandas as pd\n",
    "import seaborn as sns\n",
    "\n"
   ]
  },
  {
   "cell_type": "code",
   "execution_count": null,
   "metadata": {},
   "outputs": [],
   "source": []
  },
  {
   "cell_type": "code",
   "execution_count": 112,
   "metadata": {},
   "outputs": [],
   "source": [
    "# Función get_features_cat_regression\n",
    "def get_features_cat_regression ( data, target_col, p_value = 0.05):\n",
    "    \"\"\"\n",
    "    Descripción:\n",
    "\n",
    "    Argumentos:\n",
    "    data : Dataframe que queremos usar\n",
    "    target_col : columna asignada como target, tiene que ser una variable numérica contínua o discreta con una alta cardinalidad (>%25)\n",
    "    pvalue : valor de confianza que por defecto sera de 0.05\n",
    "\n",
    "    Return:\n",
    "    lista : Devuelve una lista con las columnas categóricas del dataframe cuyo test de relación con la columna designada por 'target_col' supere en confianza estadística el test de relación que sea necesario : t-test, chi-2 o ANOVA\n",
    "    \"\"\"\n",
    "\n",
    "    try: \n",
    "        if not isinstance (data, pd.DataFrame): # Comprobando que el DataFrame es un DataFrame\n",
    "            \n",
    "            raise TypeError ('El argumento \"data\" tiene que ser un DataFrame')\n",
    "        \n",
    "        if not (data[target_col].dtype =='int64' or data[target_col].dtype =='float64'): # Compruebo si es una columna de tipo numérico\n",
    "           \n",
    "            raise TypeError ('El argumento introducido como target_col, no es una variable numérica')\n",
    "        \n",
    "        if not (data[target_col].nunique() > 10 and (data[target_col].nunique()/len(data)*100 > 25)):# Pongo la cardinalidad > 10 para que coja las numericas discretas y el porcentaje de cardinalida mayor de 25% para cojer las numéricas continuas\n",
    "            \n",
    "            raise TypeError ('El argumento introducido como target_col, no es una variable numérica discreta o contínua con alta cardinalidad')\n",
    "        \n",
    "        if target_col not in data.columns: # Comprobamos que el target esta en el DataFrame\n",
    "            raise ValueError('El argumento \"target_col\" tiene que pertenecer al DataFrame')\n",
    "        \n",
    "        # Creamos una dataframe para tipificar cada columna y ver qué variables son categóricas, binarias, numéricas contínuas o discretas\n",
    "        df_tipificacion = pd.DataFrame([data.nunique(), data.nunique()/len(data) * 100, data.dtypes]).T.rename(columns = {0: \"Card\",1: \"%_Card\", 2: \"Tipo\"})\n",
    "        \n",
    "        # Ahora ya si las clasificamos en función de los resultados de las operaciones realizadas en el apartado anterior\n",
    "        df_tipificacion[\"Clasificada_como\"] = \"Categorica\" \n",
    "        df_tipificacion.loc[df_tipificacion.Card == 2, \"Clasificada_como\"] = \"Binaria\"\n",
    "        df_tipificacion.loc[df_tipificacion[\"Card\"] > 10, \"Clasificada_como\"] =\"Numerica Discreta\"\n",
    "        df_tipificacion.loc[df_tipificacion[\"%_Card\"] > 30, \"Clasificada_como\"] = \"Numerica Continua\"\n",
    "        print(df_tipificacion) \n",
    "\n",
    "        # Genero un listado para cada una de las clasificaciones anteriores\n",
    "        # Para categóricas\n",
    "        categoricas = df_tipificacion[df_tipificacion['Clasificada_como'] == 'Categorica']\n",
    "        lista_categoricas = categoricas.index.tolist()\n",
    "        print(lista_categoricas)\n",
    "\n",
    "        # Para binarias\n",
    "        binarias = df_tipificacion[df_tipificacion['Clasificada_como'] == 'Binaria']\n",
    "        lista_binarias = binarias.index.tolist()\n",
    "        print(lista_binarias)\n",
    "\n",
    "        # Para numérica discreta\n",
    "        discretas = df_tipificacion[df_tipificacion['Clasificada_como'] == 'Numerica Discreta']\n",
    "        lista_discretas = discretas.index.tolist()\n",
    "        print(lista_discretas)\n",
    "\n",
    "        # Para numérica contínua\n",
    "        continuas = df_tipificacion[df_tipificacion['Clasificada_como'] == 'Numerica Continua']\n",
    "        lista_continuas = continuas.index.tolist()\n",
    "        print(lista_continuas)\n",
    "\n",
    "        # Voy a clasificar todas las variables categoricas (categoricas y binarias, según sus valores)\n",
    "        listado_binarias = [] # Lista de binarias con valores 0-1, True-False\n",
    "        listado_categoricas = [] # Cajón de sastre donde irán las que no son valores 0-1, True_False, ni numéricas, por tanto string\n",
    "        listado_categorica_numerica = [] # Lista de categoricas con valores numéricos\n",
    "        valores = [0,1] # Condición para las binarias con valores 0-1, True-False\n",
    "        for col in data[lista_binarias].columns: # Para separar las binarias con valores True-False, 0-1\n",
    "            if data[col].isin(valores).all():\n",
    "                listado_binarias.append(col)\n",
    "            else:\n",
    "                listado_categoricas.append(col) # Resto de categoricas (string)\n",
    "        \n",
    "        for col in data[lista_categoricas]: # Para separar las numéricas\n",
    "            if data[col].dtype == 'int64' or data[col].dtype == 'float64':\n",
    "                listado_categorica_numerica.append(col)\n",
    "            else:\n",
    "                listado_categoricas.append(col) # Resto de categoricas (string)\n",
    "        \n",
    "        print(listado_categoricas)\n",
    "        print(listado_binarias)\n",
    "        print(listado_categorica_numerica)\n",
    "        \n",
    "\n",
    "        listado_completo = [] # Creo lista vacia para ir introduciendo las variables que nos interesan\n",
    "\n",
    "        # Según el tipo de valor que tenga la variable categórica, irá hacia un test u otro\n",
    "        # Para las variables categóricas binarias cuyos valores no son 0-1, True-False, puedo hacer un chi-cuadrado. Uso listado_categoricas\n",
    "        from scipy.stats import chi2_contingency\n",
    "        for col in data[listado_categoricas].columns:\n",
    "            tabla = pd.crosstab (data[target_col], data[col].dropna()) #uso el dropna para quitar aquellos valores nulos de la columna y que no me de errores \n",
    "            resultado_test = chi2_contingency(tabla)\n",
    "            if resultado_test[1] < p_value:\n",
    "                listado_completo.append(col)\n",
    "\n",
    "        # Prueba t-test con categoricas binarias valores 0-1, True-False. Uso listado_binarias\n",
    "        import scipy.stats as stats  \n",
    "        for col in data[listado_binarias].columns:\n",
    "            x = stats.ttest_ind(data[target_col], data[col].dropna(), alternative='two-sided') #uso el dropna para quitar aquellos valores nulos de la columna y que no me de errores \n",
    "            if x[1] < p_value:\n",
    "                listado_completo.append(col)\n",
    "                \n",
    "        # Para las variables categóricas no binarias, pero numéricas tengo que hacer un ANOVA. Uso listado_categorica_numerica \n",
    "        for col in data[listado_categorica_numerica].columns:\n",
    "            resultado_test = stats.f_oneway (data[target_col], data[col].dropna()) #uso el dropna para quitar aquellos valores nulos de la columna y que no me de errores \n",
    "            if resultado_test[1] < p_value:\n",
    "                listado_categoricas.append(col)\n",
    "        return listado_completo\n",
    "       \n",
    "    except Exception as e:\n",
    "        print(f\"Error en la función get_feautures-cat_regression: {e}\")\n",
    "\n"
   ]
  },
  {
   "cell_type": "code",
   "execution_count": 113,
   "metadata": {},
   "outputs": [],
   "source": [
    "def plot_features_cat_regression ( data, target_col = \"\", columns = [], p_value = 0.05, with_individual_plot = False):\n",
    "    \"\"\"\n",
    "    Descripción:\n",
    "\n",
    "    Argumentos:\n",
    "    data : Dataframe que queremos usar\n",
    "    target_col : columna asignada como target, por defecto \"\" (no se especifica que tipo de variable es la tarrget)\n",
    "    columns : lista de strings con los nombres de las columnas, por defecto es una lista vacia \n",
    "    pvalue : valor de confianza que por defecto sera de 0.05\n",
    "    with_individual_plot : valor por defecto False\n",
    "\n",
    "    Return:\n",
    "    lista : Devuelve una lista con las valores de las columnas del dataframe cuyo test de relación con la columna designada por 'target_col' supere en confianza estadística el test de relación que sea necesario\n",
    "    \"\"\"\n",
    "\n",
    "    try: \n",
    "        if not isinstance (data, pd.DataFrame): # Comprobando que el DataFrame es un DataFrame\n",
    "            \n",
    "            raise TypeError ('El argumento \"data\" tiene que ser un DataFrame')\n",
    "    \n",
    "        if target_col not in data.columns: # Comprobamos que el target esta en el DataFrame\n",
    "            raise ValueError ('El argumento \"target_col\" tiene que pertenecer al DataFrame')\n",
    "        \n",
    "        if columns != [] and not all(isinstance(elemento, str) for elemento in columns): # Compruebo si es una lista solo de strings\n",
    "             raise ValueError ('El argumento columns no es una lista de string')\n",
    "        \n",
    "        # Después de comprobar que cada argumento es el que tiene que ser...\n",
    "        # Si columns es una lista de string...\n",
    "        if columns != []:\n",
    "            # Comprobamos que valores de la lista de columnas son variables categoricas(binarias + categoricas como tal)\n",
    "            # Primero generamos un nuevo dataframe con las columnas que nos introduzcan en el listado\n",
    "            df_seleccionado = data[columns]\n",
    "            # Creamos una dataframe para tipificar cada columna y ver qué variables son categóricas, binarias, numéricas contínuas o discretas\n",
    "            df_tipificacion = pd.DataFrame([df_seleccionado.nunique(), df_seleccionado.nunique()/len(df_seleccionado) * 100, df_seleccionado.dtypes]).T.rename(columns = {0: \"Card\",1: \"%_Card\", 2: \"Tipo\"})\n",
    "        \n",
    "            # Ahora ya si las clasificamos en función de los resultados de las operaciones realizadas en el apartado anterior\n",
    "            df_tipificacion[\"Clasificada_como\"] = \"Categorica\" \n",
    "            df_tipificacion.loc[df_tipificacion.Card == 2, \"Clasificada_como\"] = \"Binaria\"\n",
    "            df_tipificacion.loc[df_tipificacion[\"Card\"] > 10, \"Clasificada_como\"] =\"Numerica discreta\"\n",
    "            df_tipificacion.loc[df_tipificacion[\"%_Card\"] > 25, \"Clasificada_como\"] = \"Numerica continua\"\n",
    "            print(df_tipificacion) \n",
    "\n",
    "            # Genero un listado para cada una de las clasificaciones anteriores\n",
    "            # Para categóricas\n",
    "            categoricas = df_tipificacion[df_tipificacion['Clasificada_como'] == 'Categorica']\n",
    "            lista_categoricas = categoricas.index.tolist()\n",
    "            print(lista_categoricas)\n",
    "\n",
    "            # Para binarias\n",
    "            binarias = df_tipificacion[df_tipificacion['Clasificada_como'] == 'Binaria']\n",
    "            lista_binarias = binarias.index.tolist()\n",
    "            print(lista_binarias)\n",
    "\n",
    "            # Voy a clasificar todas las variables categoricas (categoricas y binarias, según sus valores). Lo usaré en los test si la taget es nmerica continua\n",
    "            listado_binarias = [] # Lista de binarias con valores 0-1, True-False\n",
    "            listado_categoricas_string = [] # Cajón de sastre donde irán las que no son valores 0-1, True_False, ni numéricas, por tanto string\n",
    "            listado_categorica_numerica = [] # Lista de categoricas con valores numéricos\n",
    "            valores = [0,1] # Condición para las binarias con valores 0-1, True-False\n",
    "            for col in data[lista_binarias].columns: # Para separar las binarias con valores True-False, 0-1\n",
    "                if data[col].isin(valores).all():\n",
    "                    listado_binarias.append(col)\n",
    "            else:\n",
    "                listado_categoricas_string.append(col) # Resto de categoricas (string)\n",
    "        \n",
    "            for col in data[lista_categoricas]: # Para separar las numéricas\n",
    "                if data[col].dtype == 'int64' or data[col].dtype == 'float64':\n",
    "                    listado_categorica_numerica.append(col)\n",
    "            else:\n",
    "                listado_categoricas_string.append(col) # Resto de categoricas (string)\n",
    "\n",
    "            # Hago un listado completo con las columnas categoricas en general\n",
    "            listado_categoricas = lista_binarias + lista_categoricas\n",
    "            \n",
    "            # Ahora que están tipificadas tengo que hacer los test contra la variable target\n",
    "            # Debo comprobar de qué tipo es la variable target\n",
    "            clasificacion = 'Categorica'\n",
    "            if data[target_col].nunique() == 2:\n",
    "                clasificacion = 'Binaria'\n",
    "                print ('Binaria')\n",
    "            elif data[target_col].nunique() > 10 and data[target_col].nunique()/len(data) * 100 < 25:\n",
    "                clasificacion = 'Numerica discreta'\n",
    "                print('Numerica Discreta')\n",
    "            elif data[target_col].nunique() > 10 and data[target_col].nunique()/len(data) * 100 > 25:\n",
    "                clasificacion = 'Numerica continua'\n",
    "                print('Numerica continua')\n",
    "            \n",
    "            # Tras saber la tipificacion de la variable target, tengo que realizar los test correspondientes y comparar el p-value obtenido con el que tenemos por defecto\n",
    "            listado_completo = {}\n",
    "            # Si target y columns son categoricas test chi-cuadrado\n",
    "            if clasificacion in ('Binaria', 'Categorica'):\n",
    "                from scipy.stats import chi2_contingency\n",
    "                for col in data[listado_categoricas].columns:\n",
    "                    tabla = pd.crosstab (data[target_col], data[col].dropna()) #uso el dropna para quitar aquellos valores nulos de la columna y que no me de errores \n",
    "                    resultado_test = chi2_contingency(tabla)\n",
    "                    if resultado_test[1] < p_value:\n",
    "                        listado_completo[col] = (1-resultado_test[1])\n",
    "            # Si target es continua y columns categoricas un ANOVA , t-test (variables binarias) o chi-2\n",
    "            elif clasificacion == 'Numerica continua':\n",
    "                # Para categóricas binarias se hace t-test\n",
    "                import scipy.stats as stats\n",
    "                for col in data[listado_binarias].columns:\n",
    "                    resultado_test = stats.ttest_ind(data[target_col], data[col].dropna(), alternative='two-sided') #uso el dropna para quitar aquellos valores nulos de la columna y que no me de errores \n",
    "                    if resultado_test[1] < p_value:\n",
    "                        listado_completo[col] = (1-resultado_test[1])\n",
    "                # Para las categoricas numéricas se usa ANOVA\n",
    "                import scipy.stats as stats \n",
    "                for col in data[listado_categorica_numerica].columns:\n",
    "                    resultado_test = stats.f_oneway (data[target_col], data[col].dropna()) #uso el dropna para quitar aquellos valores nulos de la columna y que no me de errores \n",
    "                    if resultado_test[1] < p_value:\n",
    "                        listado_completo[col] = (1-resultado_test[1])\n",
    "                # Para las categoricas string se usa chi-2\n",
    "                from scipy.stats import chi2_contingency\n",
    "                for col in data[listado_categoricas_string].columns:\n",
    "                    tabla = pd.crosstab (data[target_col], data[col].dropna()) #uso el dropna para quitar aquellos valores nulos de la columna y que no me de errores \n",
    "                    resultado_test = chi2_contingency(tabla)\n",
    "                    if resultado_test[1] < p_value:\n",
    "                        listado_completo[col] = (1-resultado_test[1])\n",
    "             # Si target es discreta y columns categorica test chi-cuadrado\n",
    "            if clasificacion == 'Numerica discreta':\n",
    "                from scipy.stats import chi2_contingency\n",
    "                for col in data[listado_categoricas].columns:\n",
    "                    tabla = pd.crosstab (data[target_col], data[col].dropna()) #uso el dropna para quitar aquellos valores nulos de la columna y que no me de errores \n",
    "                    resultado_test = chi2_contingency(tabla)\n",
    "                    if resultado_test[1] < p_value:\n",
    "                        listado_completo[col] = (1-resultado_test[1])\n",
    "\n",
    "             # Una vez obtenido el listado de las variables significativas, hay que pintar el histograma\n",
    "            # Obtengo las claves del diccionario para obtener las columnas para hacer los histogramas            \n",
    "            columna = listado_completo.keys()\n",
    "            for col in columna:\n",
    "                plt.figure (figsize= (len(columna), len(columna)/2))\n",
    "                sns.histplot(data[col])\n",
    "            return listado_completo\n",
    "        # Si columns es una lista vacia... tengo que repetir el proceso, pero con las columnas numéricas\n",
    "        else:\n",
    "            # Nuestro Dataframe a usar será el introducido, data\n",
    "            # Creamos una dataframe para tipificar cada columna y ver qué variables son categóricas, binarias, numéricas contínuas o discretas\n",
    "            df_tipificacion = pd.DataFrame([data.nunique(), data.nunique()/len(data) * 100, data.dtypes]).T.rename(columns = {0: \"Card\",1: \"%_Card\", 2: \"Tipo\"})\n",
    "        \n",
    "            # Ahora ya si las clasificamos en función de los resultados de las operaciones realizadas en el apartado anterior\n",
    "            df_tipificacion[\"Clasificada_como\"] = \"Categorica\" \n",
    "            df_tipificacion.loc[df_tipificacion.Card == 2, \"Clasificada_como\"] = \"Binaria\"\n",
    "            df_tipificacion.loc[df_tipificacion[\"Card\"] > 10, \"Clasificada_como\"] =\"Numerica discreta\"\n",
    "            df_tipificacion.loc[df_tipificacion[\"%_Card\"] > 25, \"Clasificada_como\"] = \"Numerica continua\"\n",
    "            print(df_tipificacion) \n",
    "\n",
    "            # Genero un listado para cada una de las clasificaciones anteriores en numericas\n",
    "            # Para discretas\n",
    "            discreta = df_tipificacion[df_tipificacion['Clasificada_como'] == 'Numerica discreta']\n",
    "            lista_discretas = discreta.index.tolist()\n",
    "            print(lista_discretas)\n",
    "\n",
    "            # Para continuas\n",
    "            continuas = df_tipificacion[df_tipificacion['Clasificada_como'] == 'Numerica continua']\n",
    "            lista_continuas = continuas.index.tolist()\n",
    "            print(lista_continuas)\n",
    "\n",
    "            # Genero un listado único de variales numericas\n",
    "            lista_numericas = (lista_continuas + lista_discretas)\n",
    "            print(lista_numericas)\n",
    "\n",
    "            # Ahora que están tipificadas tengo que hacer los test contra la variable target\n",
    "            # Debo comprobar de qué tipo es la variable target\n",
    "            clasificacion = 'Categorica'\n",
    "            if data[target_col].nunique() == 2:\n",
    "                clasificacion = 'Binaria'\n",
    "                print ('Binaria')\n",
    "            elif data[target_col].nunique() > 10 and data[target_col].nunique()/len(data) * 100 < 25:\n",
    "                clasificacion = 'Numerica discreta'\n",
    "                print('Numerica Discreta')\n",
    "            elif data[target_col].nunique() > 10 and data[target_col].nunique()/len(data) * 100 > 25:\n",
    "                clasificacion = 'Numerica continua'\n",
    "                print('Numerica continua')\n",
    "\n",
    "            # Tras saber la tipificacion de la variable target, tengo que realizar los test correspondientes\n",
    "            listado_completo = {}\n",
    "            # Si la target es una variable numerica (tanto discreta como contínua), cuyo dtype sea numerico (int o float) hago un test de correlación de pearson,  sino se hará un chi-cuadrado,\n",
    "            if clasificacion in ('Numerica continua', 'Numerica discreta'):\n",
    "                # En caso de que mi variable target sea una numérica, debo sacarla del listado de features antes de hacer los test\n",
    "                lista_numericas.remove(target_col)\n",
    "                if data[target_col].dtype in (int, float): # Target numerica valores dtype (int o float)\n",
    "                    from scipy.stats import pearsonr\n",
    "                    for col in data[lista_numericas].columns:\n",
    "                        datos = data[[col, target_col]].dropna()\n",
    "                        resultado_test = pearsonr(datos[col], datos[target_col])\n",
    "                        if resultado_test[1] < p_value:\n",
    "                            listado_completo[col] = (1-resultado_test[1])\n",
    "                else:\n",
    "                    from scipy.stats import chi2_contingency\n",
    "                    for col in data[lista_numericas].columns:\n",
    "                        tabla = pd.crosstab (data[target_col], data[col].dropna()) #uso el dropna para quitar aquellos valores nulos de la columna y que no me de errores \n",
    "                        resultado_test = chi2_contingency(tabla)\n",
    "                        if resultado_test[1] < p_value:\n",
    "                            listado_completo[col] = (1-resultado_test[1])\n",
    "            # Si la target es una variable binaria con valores 0-1, True-False hago un test de correlación de pearson\n",
    "            if clasificacion in ('Binaria'):\n",
    "                if data[target_col].dtype in (int, bool):\n",
    "                    from scipy.stats import pearsonr\n",
    "                    for col in data[lista_numericas].columns:\n",
    "                        datos = data[[col, target_col]].dropna()\n",
    "                        resultado_test = pearsonr(datos[col], datos[target_col])\n",
    "                        if resultado_test[1] < p_value:\n",
    "                            listado_completo[col] = (1-resultado_test[1])\n",
    "                else: # Cuando la target es binaria pero no tiene valores 0-1, True-False, se hace un test chi-cuadrado\n",
    "                        from scipy.stats import chi2_contingency\n",
    "                        for col in data[lista_numericas].columns:\n",
    "                            tabla = pd.crosstab (data[target_col], data[col].dropna()) #uso el dropna para quitar aquellos valores nulos de la columna y que no me de errores \n",
    "                            resultado_test = chi2_contingency(tabla)\n",
    "                            if resultado_test[1] < p_value:\n",
    "                                listado_completo[col] = (1-resultado_test[1])\n",
    "            # Si la target es una variable categórica, no numérica (string), se hace un test chi-cuadrado\n",
    "            if clasificacion == 'Categorica':\n",
    "                from scipy.stats import chi2_contingency\n",
    "                for col in data[lista_numericas].columns:\n",
    "                    tabla = pd.crosstab (data[target_col], data[col].dropna()) #uso el dropna para quitar aquellos valores nulos de la columna y que no me de errores \n",
    "                    resultado_test = chi2_contingency(tabla)\n",
    "                    if resultado_test[1] < p_value:\n",
    "                        listado_completo[col] = (1-resultado_test[1])\n",
    "\n",
    "            # Una vez obtenidos los listados de columnas, hay que devolver los histogramas\n",
    "            columna = listado_completo.keys()\n",
    "            for col in columna:\n",
    "                plt.figure (figsize= (len(columna), len(columna)/2))\n",
    "                sns.histplot(data[col])\n",
    "            return listado_completo\n",
    "          \n",
    "\n",
    "    except Exception as e:\n",
    "        print(f\"Error en la función plot_feautures-cat_regression: {e}\")        "
   ]
  },
  {
   "cell_type": "code",
   "execution_count": 114,
   "metadata": {},
   "outputs": [],
   "source": [
    "df_titanic = pd.read_csv('/Users/lauragarcia/REPO_PRUEBA/DS_Online_Febr25_Exercises/03_Analisis_de_Datos/Sprint_07/Unidad_01/Practica_Obligatoria/data/titanic.csv')\n"
   ]
  },
  {
   "cell_type": "code",
   "execution_count": 115,
   "metadata": {},
   "outputs": [
    {
     "name": "stdout",
     "output_type": "stream",
     "text": [
      "            Card    %_Card    Tipo Clasificada_como\n",
      "pclass         3    0.3367   int64       Categorica\n",
      "sibsp          7  0.785634   int64       Categorica\n",
      "parch          7  0.785634   int64       Categorica\n",
      "embarked       3    0.3367  object       Categorica\n",
      "class          3    0.3367  object       Categorica\n",
      "who            3    0.3367  object       Categorica\n",
      "deck           7  0.785634  object       Categorica\n",
      "embark_town    3    0.3367  object       Categorica\n",
      "survived       2  0.224467   int64          Binaria\n",
      "sex            2  0.224467  object          Binaria\n",
      "adult_male     2  0.224467    bool          Binaria\n",
      "alive          2  0.224467  object          Binaria\n",
      "alone          2  0.224467    bool          Binaria\n",
      "['pclass', 'sibsp', 'parch', 'embarked', 'class', 'who', 'deck', 'embark_town']\n",
      "['survived', 'sex', 'adult_male', 'alive', 'alone']\n",
      "Numerica Discreta\n",
      "{'adult_male': np.float64(0.9999999900051655), 'alone': np.float64(0.9999984140858649), 'pclass': np.float64(0.9999997364060774), 'sibsp': np.float64(0.9999999884318728), 'parch': np.float64(0.9999999999999993), 'embarked': np.float64(0.9971338842842113), 'class': np.float64(0.9999997364060774), 'who': np.float64(1.0), 'embark_town': np.float64(0.9971338842842113)}\n"
     ]
    },
    {
     "data": {
      "image/png": "[encoded data removed]",
      "text/plain": [
       "<Figure size 900x450 with 1 Axes>"
      ]
     },
     "metadata": {},
     "output_type": "display_data"
    },
    {
     "data": {
      "image/png": "[encoded data removed]",
      "text/plain": [
       "<Figure size 900x450 with 1 Axes>"
      ]
     },
     "metadata": {},
     "output_type": "display_data"
    },
    {
     "data": {
      "image/png": "[encoded data removed]",
      "text/plain": [
       "<Figure size 900x450 with 1 Axes>"
      ]
     },
     "metadata": {},
     "output_type": "display_data"
    },
    {
     "data": {
      "image/png": "[encoded data removed]",
      "text/plain": [
       "<Figure size 900x450 with 1 Axes>"
      ]
     },
     "metadata": {},
     "output_type": "display_data"
    },
    {
     "data": {
      "image/png": "[encoded data removed]",
      "text/plain": [
       "<Figure size 900x450 with 1 Axes>"
      ]
     },
     "metadata": {},
     "output_type": "display_data"
    },
    {
     "data": {
      "image/png": "[encoded data removed]",
      "text/plain": [
       "<Figure size 900x450 with 1 Axes>"
      ]
     },
     "metadata": {},
     "output_type": "display_data"
    },
    {
     "data": {
      "image/png": "[encoded data removed]",
      "text/plain": [
       "<Figure size 900x450 with 1 Axes>"
      ]
     },
     "metadata": {},
     "output_type": "display_data"
    },
    {
     "data": {
      "image/png": "[encoded data removed]",
      "text/plain": [
       "<Figure size 900x450 with 1 Axes>"
      ]
     },
     "metadata": {},
     "output_type": "display_data"
    },
    {
     "data": {
      "image/png": "[encoded data removed]",
      "text/plain": [
       "<Figure size 900x450 with 1 Axes>"
      ]
     },
     "metadata": {},
     "output_type": "display_data"
    }
   ],
   "source": [
    "print(plot_features_cat_regression (df_titanic, target_col= 'age', columns= ['pclass', 'sibsp', 'parch', 'embarked', 'class', 'who', 'deck', 'embark_town',\n",
    "'survived', 'sex', 'adult_male', 'alive', 'alone']))"
   ]
  },
  {
   "cell_type": "code",
   "execution_count": 116,
   "metadata": {},
   "outputs": [
    {
     "name": "stdout",
     "output_type": "stream",
     "text": [
      "            Card     %_Card     Tipo   Clasificada_como\n",
      "survived       2   0.224467    int64            Binaria\n",
      "pclass         3     0.3367    int64         Categorica\n",
      "sex            2   0.224467   object            Binaria\n",
      "age           88   9.876543  float64  Numerica discreta\n",
      "sibsp          7   0.785634    int64         Categorica\n",
      "parch          7   0.785634    int64         Categorica\n",
      "fare         248  27.833895  float64  Numerica continua\n",
      "embarked       3     0.3367   object         Categorica\n",
      "class          3     0.3367   object         Categorica\n",
      "who            3     0.3367   object         Categorica\n",
      "adult_male     2   0.224467     bool            Binaria\n",
      "deck           7   0.785634   object         Categorica\n",
      "embark_town    3     0.3367   object         Categorica\n",
      "alive          2   0.224467   object            Binaria\n",
      "alone          2   0.224467     bool            Binaria\n",
      "['age']\n",
      "['fare']\n",
      "['fare', 'age']\n",
      "Numerica Discreta\n",
      "{'fare': np.float64(0.989783722495553)}\n"
     ]
    },
    {
     "data": {
      "image/png": "[encoded data removed]",
      "text/plain": [
       "<Figure size 100x50 with 1 Axes>"
      ]
     },
     "metadata": {},
     "output_type": "display_data"
    }
   ],
   "source": [
    "# Si la lista está vacia sólo se cogen las columnas que sean numéricas, target_numerica discreta\n",
    "print(plot_features_cat_regression (df_titanic, target_col= 'age', columns= []))"
   ]
  },
  {
   "cell_type": "code",
   "execution_count": 117,
   "metadata": {},
   "outputs": [
    {
     "name": "stdout",
     "output_type": "stream",
     "text": [
      "            Card     %_Card     Tipo   Clasificada_como\n",
      "survived       2   0.224467    int64            Binaria\n",
      "pclass         3     0.3367    int64         Categorica\n",
      "sex            2   0.224467   object            Binaria\n",
      "age           88   9.876543  float64  Numerica discreta\n",
      "sibsp          7   0.785634    int64         Categorica\n",
      "parch          7   0.785634    int64         Categorica\n",
      "fare         248  27.833895  float64  Numerica continua\n",
      "embarked       3     0.3367   object         Categorica\n",
      "class          3     0.3367   object         Categorica\n",
      "who            3     0.3367   object         Categorica\n",
      "adult_male     2   0.224467     bool            Binaria\n",
      "deck           7   0.785634   object         Categorica\n",
      "embark_town    3     0.3367   object         Categorica\n",
      "alive          2   0.224467   object            Binaria\n",
      "alone          2   0.224467     bool            Binaria\n",
      "['age']\n",
      "['fare']\n",
      "['fare', 'age']\n",
      "Numerica continua\n",
      "{'age': np.float64(0.989783722495553)}\n"
     ]
    },
    {
     "data": {
      "image/png": "[encoded data removed]",
      "text/plain": [
       "<Figure size 100x50 with 1 Axes>"
      ]
     },
     "metadata": {},
     "output_type": "display_data"
    }
   ],
   "source": [
    "# Si la lista está vacia sólo se cogen las columnas que sean numéricas, target_numerica continua\n",
    "print(plot_features_cat_regression (df_titanic, target_col= 'fare', columns= []))"
   ]
  },
  {
   "cell_type": "code",
   "execution_count": 118,
   "metadata": {},
   "outputs": [
    {
     "name": "stdout",
     "output_type": "stream",
     "text": [
      "            Card     %_Card     Tipo   Clasificada_como\n",
      "survived       2   0.224467    int64            Binaria\n",
      "pclass         3     0.3367    int64         Categorica\n",
      "sex            2   0.224467   object            Binaria\n",
      "age           88   9.876543  float64  Numerica discreta\n",
      "sibsp          7   0.785634    int64         Categorica\n",
      "parch          7   0.785634    int64         Categorica\n",
      "fare         248  27.833895  float64  Numerica continua\n",
      "embarked       3     0.3367   object         Categorica\n",
      "class          3     0.3367   object         Categorica\n",
      "who            3     0.3367   object         Categorica\n",
      "adult_male     2   0.224467     bool            Binaria\n",
      "deck           7   0.785634   object         Categorica\n",
      "embark_town    3     0.3367   object         Categorica\n",
      "alive          2   0.224467   object            Binaria\n",
      "alone          2   0.224467     bool            Binaria\n",
      "['age']\n",
      "['fare']\n",
      "['fare', 'age']\n",
      "Binaria\n",
      "{'fare': np.float64(0.9999999999999939), 'age': np.float64(0.9608753459865176)}\n"
     ]
    },
    {
     "data": {
      "image/png": "[encoded data removed]",
      "text/plain": [
       "<Figure size 200x100 with 1 Axes>"
      ]
     },
     "metadata": {},
     "output_type": "display_data"
    },
    {
     "data": {
      "image/png": "[encoded data removed]",
      "text/plain": [
       "<Figure size 200x100 with 1 Axes>"
      ]
     },
     "metadata": {},
     "output_type": "display_data"
    }
   ],
   "source": [
    "# Si la lista de columns está vacia y la target es binaria (valores 0-1 o True_false)\n",
    "print(plot_features_cat_regression (df_titanic, target_col= 'survived', columns= []))"
   ]
  },
  {
   "cell_type": "code",
   "execution_count": 119,
   "metadata": {},
   "outputs": [
    {
     "name": "stdout",
     "output_type": "stream",
     "text": [
      "            Card     %_Card     Tipo   Clasificada_como\n",
      "survived       2   0.224467    int64            Binaria\n",
      "pclass         3     0.3367    int64         Categorica\n",
      "sex            2   0.224467   object            Binaria\n",
      "age           88   9.876543  float64  Numerica discreta\n",
      "sibsp          7   0.785634    int64         Categorica\n",
      "parch          7   0.785634    int64         Categorica\n",
      "fare         248  27.833895  float64  Numerica continua\n",
      "embarked       3     0.3367   object         Categorica\n",
      "class          3     0.3367   object         Categorica\n",
      "who            3     0.3367   object         Categorica\n",
      "adult_male     2   0.224467     bool            Binaria\n",
      "deck           7   0.785634   object         Categorica\n",
      "embark_town    3     0.3367   object         Categorica\n",
      "alive          2   0.224467   object            Binaria\n",
      "alone          2   0.224467     bool            Binaria\n",
      "['age']\n",
      "['fare']\n",
      "['fare', 'age']\n",
      "Binaria\n",
      "{'fare': np.float64(0.9999992631116704)}\n"
     ]
    },
    {
     "data": {
      "image/png": "[encoded data removed]",
      "text/plain": [
       "<Figure size 100x50 with 1 Axes>"
      ]
     },
     "metadata": {},
     "output_type": "display_data"
    }
   ],
   "source": [
    "# Si la lista de columns está vacia y la target es binaria tipo string\n",
    "print(plot_features_cat_regression (df_titanic, target_col= 'sex', columns= []))"
   ]
  },
  {
   "cell_type": "code",
   "execution_count": 120,
   "metadata": {},
   "outputs": [
    {
     "name": "stdout",
     "output_type": "stream",
     "text": [
      "            Card     %_Card     Tipo   Clasificada_como\n",
      "survived       2   0.224467    int64            Binaria\n",
      "pclass         3     0.3367    int64         Categorica\n",
      "sex            2   0.224467   object            Binaria\n",
      "age           88   9.876543  float64  Numerica discreta\n",
      "sibsp          7   0.785634    int64         Categorica\n",
      "parch          7   0.785634    int64         Categorica\n",
      "fare         248  27.833895  float64  Numerica continua\n",
      "embarked       3     0.3367   object         Categorica\n",
      "class          3     0.3367   object         Categorica\n",
      "who            3     0.3367   object         Categorica\n",
      "adult_male     2   0.224467     bool            Binaria\n",
      "deck           7   0.785634   object         Categorica\n",
      "embark_town    3     0.3367   object         Categorica\n",
      "alive          2   0.224467   object            Binaria\n",
      "alone          2   0.224467     bool            Binaria\n",
      "['age']\n",
      "['fare']\n",
      "['fare', 'age']\n",
      "{'fare': np.float64(1.0), 'age': np.float64(0.9971338842842113)}\n"
     ]
    },
    {
     "data": {
      "image/png": "[encoded data removed]",
      "text/plain": [
       "<Figure size 200x100 with 1 Axes>"
      ]
     },
     "metadata": {},
     "output_type": "display_data"
    },
    {
     "data": {
      "image/png": "[encoded data removed]",
      "text/plain": [
       "<Figure size 200x100 with 1 Axes>"
      ]
     },
     "metadata": {},
     "output_type": "display_data"
    }
   ],
   "source": [
    "# Si la lista de columns está vacia y la target es categorica\n",
    "print(plot_features_cat_regression (df_titanic, target_col= 'embark_town', columns= []))"
   ]
  },
  {
   "cell_type": "code",
   "execution_count": 121,
   "metadata": {},
   "outputs": [
    {
     "name": "stdout",
     "output_type": "stream",
     "text": [
      "            Card     %_Card     Tipo   Clasificada_como\n",
      "survived       2   0.224467    int64            Binaria\n",
      "pclass         3     0.3367    int64         Categorica\n",
      "sex            2   0.224467   object            Binaria\n",
      "age           88   9.876543  float64  Numerica Discreta\n",
      "sibsp          7   0.785634    int64         Categorica\n",
      "parch          7   0.785634    int64         Categorica\n",
      "fare         248  27.833895  float64  Numerica Discreta\n",
      "embarked       3     0.3367   object         Categorica\n",
      "class          3     0.3367   object         Categorica\n",
      "who            3     0.3367   object         Categorica\n",
      "adult_male     2   0.224467     bool            Binaria\n",
      "deck           7   0.785634   object         Categorica\n",
      "embark_town    3     0.3367   object         Categorica\n",
      "alive          2   0.224467   object            Binaria\n",
      "alone          2   0.224467     bool            Binaria\n",
      "['pclass', 'sibsp', 'parch', 'embarked', 'class', 'who', 'deck', 'embark_town']\n",
      "['survived', 'sex', 'adult_male', 'alive', 'alone']\n",
      "['age', 'fare']\n",
      "[]\n",
      "['sex', 'alive', 'embarked', 'class', 'who', 'deck', 'embark_town']\n",
      "['survived', 'adult_male', 'alone']\n",
      "['pclass', 'sibsp', 'parch']\n",
      "['sex', 'alive', 'embarked', 'class', 'who', 'deck', 'embark_town', 'survived']\n"
     ]
    }
   ],
   "source": [
    "# Pruebas de la primera función \n",
    "print(get_features_cat_regression(df_titanic, 'fare',p_value=0.05))"
   ]
  },
  {
   "cell_type": "code",
   "execution_count": 122,
   "metadata": {},
   "outputs": [
    {
     "data": {
      "text/html": [
       "<div>\n",
       "<style scoped>\n",
       "    .dataframe tbody tr th:only-of-type {\n",
       "        vertical-align: middle;\n",
       "    }\n",
       "\n",
       "    .dataframe tbody tr th {\n",
       "        vertical-align: top;\n",
       "    }\n",
       "\n",
       "    .dataframe thead th {\n",
       "        text-align: right;\n",
       "    }\n",
       "</style>\n",
       "<table border=\"1\" class=\"dataframe\">\n",
       "  <thead>\n",
       "    <tr style=\"text-align: right;\">\n",
       "      <th></th>\n",
       "      <th>Avg. Area Income</th>\n",
       "      <th>Avg. Area House Age</th>\n",
       "      <th>Avg. Area Number of Rooms</th>\n",
       "      <th>Avg. Area Number of Bedrooms</th>\n",
       "      <th>Area Population</th>\n",
       "      <th>Price</th>\n",
       "      <th>Address</th>\n",
       "    </tr>\n",
       "  </thead>\n",
       "  <tbody>\n",
       "    <tr>\n",
       "      <th>0</th>\n",
       "      <td>79545.458574</td>\n",
       "      <td>5.682861</td>\n",
       "      <td>7.009188</td>\n",
       "      <td>4.09</td>\n",
       "      <td>23086.800503</td>\n",
       "      <td>1.059034e+06</td>\n",
       "      <td>208 Michael Ferry Apt. 674\\nLaurabury, NE 3701...</td>\n",
       "    </tr>\n",
       "    <tr>\n",
       "      <th>1</th>\n",
       "      <td>79248.642455</td>\n",
       "      <td>6.002900</td>\n",
       "      <td>6.730821</td>\n",
       "      <td>3.09</td>\n",
       "      <td>40173.072174</td>\n",
       "      <td>1.505891e+06</td>\n",
       "      <td>188 Johnson Views Suite 079\\nLake Kathleen, CA...</td>\n",
       "    </tr>\n",
       "    <tr>\n",
       "      <th>2</th>\n",
       "      <td>61287.067179</td>\n",
       "      <td>5.865890</td>\n",
       "      <td>8.512727</td>\n",
       "      <td>5.13</td>\n",
       "      <td>36882.159400</td>\n",
       "      <td>1.058988e+06</td>\n",
       "      <td>9127 Elizabeth Stravenue\\nDanieltown, WI 06482...</td>\n",
       "    </tr>\n",
       "    <tr>\n",
       "      <th>3</th>\n",
       "      <td>63345.240046</td>\n",
       "      <td>7.188236</td>\n",
       "      <td>5.586729</td>\n",
       "      <td>3.26</td>\n",
       "      <td>34310.242831</td>\n",
       "      <td>1.260617e+06</td>\n",
       "      <td>USS Barnett\\nFPO AP 44820</td>\n",
       "    </tr>\n",
       "    <tr>\n",
       "      <th>4</th>\n",
       "      <td>59982.197226</td>\n",
       "      <td>5.040555</td>\n",
       "      <td>7.839388</td>\n",
       "      <td>4.23</td>\n",
       "      <td>26354.109472</td>\n",
       "      <td>6.309435e+05</td>\n",
       "      <td>USNS Raymond\\nFPO AE 09386</td>\n",
       "    </tr>\n",
       "    <tr>\n",
       "      <th>...</th>\n",
       "      <td>...</td>\n",
       "      <td>...</td>\n",
       "      <td>...</td>\n",
       "      <td>...</td>\n",
       "      <td>...</td>\n",
       "      <td>...</td>\n",
       "      <td>...</td>\n",
       "    </tr>\n",
       "    <tr>\n",
       "      <th>4995</th>\n",
       "      <td>60567.944140</td>\n",
       "      <td>7.830362</td>\n",
       "      <td>6.137356</td>\n",
       "      <td>3.46</td>\n",
       "      <td>22837.361035</td>\n",
       "      <td>1.060194e+06</td>\n",
       "      <td>USNS Williams\\nFPO AP 30153-7653</td>\n",
       "    </tr>\n",
       "    <tr>\n",
       "      <th>4996</th>\n",
       "      <td>78491.275435</td>\n",
       "      <td>6.999135</td>\n",
       "      <td>6.576763</td>\n",
       "      <td>4.02</td>\n",
       "      <td>25616.115489</td>\n",
       "      <td>1.482618e+06</td>\n",
       "      <td>PSC 9258, Box 8489\\nAPO AA 42991-3352</td>\n",
       "    </tr>\n",
       "    <tr>\n",
       "      <th>4997</th>\n",
       "      <td>63390.686886</td>\n",
       "      <td>7.250591</td>\n",
       "      <td>4.805081</td>\n",
       "      <td>2.13</td>\n",
       "      <td>33266.145490</td>\n",
       "      <td>1.030730e+06</td>\n",
       "      <td>4215 Tracy Garden Suite 076\\nJoshualand, VA 01...</td>\n",
       "    </tr>\n",
       "    <tr>\n",
       "      <th>4998</th>\n",
       "      <td>68001.331235</td>\n",
       "      <td>5.534388</td>\n",
       "      <td>7.130144</td>\n",
       "      <td>5.44</td>\n",
       "      <td>42625.620156</td>\n",
       "      <td>1.198657e+06</td>\n",
       "      <td>USS Wallace\\nFPO AE 73316</td>\n",
       "    </tr>\n",
       "    <tr>\n",
       "      <th>4999</th>\n",
       "      <td>65510.581804</td>\n",
       "      <td>5.992305</td>\n",
       "      <td>6.792336</td>\n",
       "      <td>4.07</td>\n",
       "      <td>46501.283803</td>\n",
       "      <td>1.298950e+06</td>\n",
       "      <td>37778 George Ridges Apt. 509\\nEast Holly, NV 2...</td>\n",
       "    </tr>\n",
       "  </tbody>\n",
       "</table>\n",
       "<p>5000 rows × 7 columns</p>\n",
       "</div>"
      ],
      "text/plain": [
       "      Avg. Area Income  Avg. Area House Age  Avg. Area Number of Rooms  \\\n",
       "0         79545.458574             5.682861                   7.009188   \n",
       "1         79248.642455             6.002900                   6.730821   \n",
       "2         61287.067179             5.865890                   8.512727   \n",
       "3         63345.240046             7.188236                   5.586729   \n",
       "4         59982.197226             5.040555                   7.839388   \n",
       "...                ...                  ...                        ...   \n",
       "4995      60567.944140             7.830362                   6.137356   \n",
       "4996      78491.275435             6.999135                   6.576763   \n",
       "4997      63390.686886             7.250591                   4.805081   \n",
       "4998      68001.331235             5.534388                   7.130144   \n",
       "4999      65510.581804             5.992305                   6.792336   \n",
       "\n",
       "      Avg. Area Number of Bedrooms  Area Population         Price  \\\n",
       "0                             4.09     23086.800503  1.059034e+06   \n",
       "1                             3.09     40173.072174  1.505891e+06   \n",
       "2                             5.13     36882.159400  1.058988e+06   \n",
       "3                             3.26     34310.242831  1.260617e+06   \n",
       "4                             4.23     26354.109472  6.309435e+05   \n",
       "...                            ...              ...           ...   \n",
       "4995                          3.46     22837.361035  1.060194e+06   \n",
       "4996                          4.02     25616.115489  1.482618e+06   \n",
       "4997                          2.13     33266.145490  1.030730e+06   \n",
       "4998                          5.44     42625.620156  1.198657e+06   \n",
       "4999                          4.07     46501.283803  1.298950e+06   \n",
       "\n",
       "                                                Address  \n",
       "0     208 Michael Ferry Apt. 674\\nLaurabury, NE 3701...  \n",
       "1     188 Johnson Views Suite 079\\nLake Kathleen, CA...  \n",
       "2     9127 Elizabeth Stravenue\\nDanieltown, WI 06482...  \n",
       "3                             USS Barnett\\nFPO AP 44820  \n",
       "4                            USNS Raymond\\nFPO AE 09386  \n",
       "...                                                 ...  \n",
       "4995                   USNS Williams\\nFPO AP 30153-7653  \n",
       "4996              PSC 9258, Box 8489\\nAPO AA 42991-3352  \n",
       "4997  4215 Tracy Garden Suite 076\\nJoshualand, VA 01...  \n",
       "4998                          USS Wallace\\nFPO AE 73316  \n",
       "4999  37778 George Ridges Apt. 509\\nEast Holly, NV 2...  \n",
       "\n",
       "[5000 rows x 7 columns]"
      ]
     },
     "execution_count": 122,
     "metadata": {},
     "output_type": "execute_result"
    }
   ],
   "source": [
    "df_casas_USA = pd.read_csv('/Users/lauragarcia/Projects/DS_Online_Febr25/04_Machine_Learning/Sprint_10/Unidad_01_Regresion_Lineal_y_Regularizacion/data/USA_Housing.csv')\n",
    "df_casas_USA"
   ]
  },
  {
   "cell_type": "code",
   "execution_count": 123,
   "metadata": {},
   "outputs": [
    {
     "name": "stdout",
     "output_type": "stream",
     "text": [
      "                              Card %_Card     Tipo   Clasificada_como\n",
      "Avg. Area Income              5000  100.0  float64  Numerica Continua\n",
      "Avg. Area House Age           5000  100.0  float64  Numerica Continua\n",
      "Avg. Area Number of Rooms     5000  100.0  float64  Numerica Continua\n",
      "Avg. Area Number of Bedrooms   255    5.1  float64  Numerica Discreta\n",
      "Area Population               5000  100.0  float64  Numerica Continua\n",
      "Price                         5000  100.0  float64  Numerica Continua\n",
      "Address                       5000  100.0   object  Numerica Continua\n",
      "[]\n",
      "[]\n",
      "['Avg. Area Number of Bedrooms']\n",
      "['Avg. Area Income', 'Avg. Area House Age', 'Avg. Area Number of Rooms', 'Area Population', 'Price', 'Address']\n",
      "[]\n",
      "[]\n",
      "[]\n",
      "[]\n"
     ]
    }
   ],
   "source": [
    "print(get_features_cat_regression(df_casas_USA, target_col= 'Price'))"
   ]
  },
  {
   "cell_type": "code",
   "execution_count": 126,
   "metadata": {},
   "outputs": [],
   "source": [
    "df_ususarios = pd.read_csv('/Users/lauragarcia/Projects/DS_Online_Febr25/04_Machine_Learning/Sprint_10/Unidad_02_Clasificacion_y_Regresion_Logistica/data/usuarios_win_mac_lin.csv')"
   ]
  },
  {
   "cell_type": "code",
   "execution_count": 127,
   "metadata": {},
   "outputs": [
    {
     "name": "stdout",
     "output_type": "stream",
     "text": [
      "Error en la función get_feautures-cat_regression: El argumento introducido como target_col, no es una variable numérica discreta o contínua con alta cardinalidad\n",
      "None\n"
     ]
    }
   ],
   "source": [
    "print(get_features_cat_regression(df_ususarios, target_col= 'clase'))"
   ]
  },
  {
   "cell_type": "code",
   "execution_count": 128,
   "metadata": {},
   "outputs": [
    {
     "name": "stdout",
     "output_type": "stream",
     "text": [
      "         Card     %_Card     Tipo   Clasificada_como\n",
      "duracion   87  51.176471  float64  Numerica continua\n",
      "paginas     8   4.705882    int64         Categorica\n",
      "acciones   26  15.294118    int64  Numerica discreta\n",
      "valor      43  25.294118    int64  Numerica continua\n",
      "clase       3   1.764706    int64         Categorica\n",
      "['acciones']\n",
      "['duracion', 'valor']\n",
      "['duracion', 'valor', 'acciones']\n",
      "{'valor': np.float64(0.9999221125246512), 'acciones': np.float64(0.9989843378492772)}\n"
     ]
    },
    {
     "data": {
      "image/png": "[encoded data removed]",
      "text/plain": [
       "<Figure size 200x100 with 1 Axes>"
      ]
     },
     "metadata": {},
     "output_type": "display_data"
    },
    {
     "data": {
      "image/png": "[encoded data removed]",
      "text/plain": [
       "<Figure size 200x100 with 1 Axes>"
      ]
     },
     "metadata": {},
     "output_type": "display_data"
    }
   ],
   "source": [
    "print(plot_features_cat_regression(df_ususarios, target_col= 'clase'))"
   ]
  },
  {
   "cell_type": "code",
   "execution_count": 129,
   "metadata": {},
   "outputs": [
    {
     "name": "stdout",
     "output_type": "stream",
     "text": [
      "                   Card     %_Card     Tipo   Clasificada_como\n",
      "Unnamed: 0          482      100.0    int64  Numerica Continua\n",
      "city                482      100.0   object  Numerica Continua\n",
      "latd                474  98.340249  float64  Numerica Continua\n",
      "longd               473   98.13278  float64  Numerica Continua\n",
      "elevation_m         241       50.0  float64  Numerica Continua\n",
      "elevation_ft        271  56.224066  float64  Numerica Continua\n",
      "population_total    481  99.792531    int64  Numerica Continua\n",
      "area_total_sq_mi    468  97.095436  float64  Numerica Continua\n",
      "area_land_sq_mi     479  99.377593  float64  Numerica Continua\n",
      "area_water_sq_mi    233  48.340249  float64  Numerica Continua\n",
      "area_total_km2      472  97.925311  float64  Numerica Continua\n",
      "area_land_km2       476  98.755187  float64  Numerica Continua\n",
      "area_water_km2      277   57.46888  float64  Numerica Continua\n",
      "area_water_percent  220  45.643154  float64  Numerica Continua\n",
      "[]\n",
      "[]\n",
      "[]\n",
      "['Unnamed: 0', 'city', 'latd', 'longd', 'elevation_m', 'elevation_ft', 'population_total', 'area_total_sq_mi', 'area_land_sq_mi', 'area_water_sq_mi', 'area_total_km2', 'area_land_km2', 'area_water_km2', 'area_water_percent']\n",
      "[]\n",
      "[]\n",
      "[]\n",
      "[]\n"
     ]
    }
   ],
   "source": [
    "df_california = pd.read_csv('/Users/lauragarcia/Projects/DS_Online_Febr25_Exercises/03_Analisis_de_Datos/Sprint_08/Unidad_01/Practica_Obligatoria/data/california_cities.csv')\n",
    "print(get_features_cat_regression(df_california, target_col= 'latd'))"
   ]
  },
  {
   "cell_type": "code",
   "execution_count": 131,
   "metadata": {},
   "outputs": [
    {
     "name": "stdout",
     "output_type": "stream",
     "text": [
      "                 Card     %_Card     Tipo   Clasificada_como\n",
      "car_ID            205      100.0    int64  Numerica Continua\n",
      "symboling           6   2.926829    int64         Categorica\n",
      "CarName           147  71.707317   object  Numerica Continua\n",
      "fueltype            2    0.97561   object            Binaria\n",
      "aspiration          2    0.97561   object            Binaria\n",
      "doornumber          2    0.97561   object            Binaria\n",
      "carbody             5   2.439024   object         Categorica\n",
      "drivewheel          3   1.463415   object         Categorica\n",
      "enginelocation      2    0.97561   object            Binaria\n",
      "wheelbase          53  25.853659  float64  Numerica Discreta\n",
      "carlength          75  36.585366  float64  Numerica Continua\n",
      "carwidth           44  21.463415  float64  Numerica Discreta\n",
      "carheight          49  23.902439  float64  Numerica Discreta\n",
      "curbweight        171  83.414634    int64  Numerica Continua\n",
      "enginetype          7   3.414634   object         Categorica\n",
      "cylindernumber      7   3.414634   object         Categorica\n",
      "enginesize         44  21.463415    int64  Numerica Discreta\n",
      "fuelsystem          8   3.902439   object         Categorica\n",
      "boreratio          38  18.536585  float64  Numerica Discreta\n",
      "stroke             37   18.04878  float64  Numerica Discreta\n",
      "compressionratio   32  15.609756  float64  Numerica Discreta\n",
      "horsepower         59  28.780488    int64  Numerica Discreta\n",
      "peakrpm            23  11.219512    int64  Numerica Discreta\n",
      "citympg            29  14.146341    int64  Numerica Discreta\n",
      "highwaympg         30  14.634146    int64  Numerica Discreta\n",
      "price             189  92.195122  float64  Numerica Continua\n",
      "['symboling', 'carbody', 'drivewheel', 'enginetype', 'cylindernumber', 'fuelsystem']\n",
      "['fueltype', 'aspiration', 'doornumber', 'enginelocation']\n",
      "['wheelbase', 'carwidth', 'carheight', 'enginesize', 'boreratio', 'stroke', 'compressionratio', 'horsepower', 'peakrpm', 'citympg', 'highwaympg']\n",
      "['car_ID', 'CarName', 'carlength', 'curbweight', 'price']\n",
      "['fueltype', 'aspiration', 'doornumber', 'enginelocation', 'carbody', 'drivewheel', 'enginetype', 'cylindernumber', 'fuelsystem']\n",
      "[]\n",
      "['symboling']\n",
      "['cylindernumber']\n"
     ]
    }
   ],
   "source": [
    "df_coches = pd.read_csv('/Users/lauragarcia/Projects/DS_Online_Febr25_Exercises/04_Machine_Learning/Sprint_10/Unidad_01/Ejercicios_Workout/data/CarPrice_Assignment.csv')\n",
    "print(get_features_cat_regression(df_coches, target_col= 'price'))"
   ]
  }
 ],
 "metadata": {
  "kernelspec": {
   "display_name": "Python 3 (ipykernel)",
   "language": "python",
   "name": "python3"
  },
  "language_info": {
   "codemirror_mode": {
    "name": "ipython",
    "version": 3
   },
   "file_extension": ".py",
   "mimetype": "text/x-python",
   "name": "python",
   "nbconvert_exporter": "python",
   "pygments_lexer": "ipython3",
   "version": "3.12.2"
  }
 },
 "nbformat": 4,
 "nbformat_minor": 2
}
